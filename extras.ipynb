{
 "cells": [
  {
   "cell_type": "code",
   "execution_count": null,
   "id": "1405d3d7",
   "metadata": {},
   "outputs": [],
   "source": [
    "ADD IN ->  r_dict['is_elite'] = 'No' if i[1].find_all('li', {'class': 'is-elite responsive-small-display-inline-block'}) == [] else 'Yes'\n",
    "\n",
    "\n",
    "-----\n",
    "\n",
    "def get_review_data(d):\n",
    "    r_list = []\n",
    "    rev_data1 = d.find_all(\"ul\", { \"class\" : \"user-passport-stats\" })\n",
    "    rev_data2 = d.find_all('li', {'class': 'user-location responsive-hidden-small'})\n",
    "    rev_data3 = d.find_all('meta', {'itemprop': 'ratingValue'})[1:] #excludes first item which is overall rating\n",
    "    rev_data4 = d.find_all('meta', {'itemprop': 'datePublished'})\n",
    "    rev_data5 = d.find_all('p', {'itemprop': 'description'})\n",
    "    \n",
    "    for i in enumerate(rev_data1):\n",
    "        r_dict = dict()\n",
    "        r_dict['friend_count'] = '0' if (i[1].find_all('li', {'class': 'friend-count responsive-small-display-inline-block'})[0].find_all('b')[0].string) is None\\\n",
    "        else (i[1].find_all('li', {'class': 'friend-count responsive-small-display-inline-block'})[0].find_all('b')[0].string.encode('ascii','ignore'))  \n",
    "\n",
    "        r_dict['review_count'] = '0' if (i[1].find_all('li', {'class': 'review-count responsive-small-display-inline-block'})[0].find_all('b')[0].string) is None\\\n",
    "        else (i[1].find_all('li', {'class': 'review-count responsive-small-display-inline-block'})[0].find_all('b')[0].string.encode('ascii','ignore'))\n",
    "\n",
    "        r_dict['is_elite'] = 'No' if i[1].find_all('li', {'class': 'is-elite responsive-small-display-inline-block'}) == [] else 'Yes'\n",
    "\n",
    "        rev_data2i = \"Unknown\" if rev_data2[i[0]].find_all('b')[0].string is None else rev_data2[i[0]].find_all('b')[0].string.encode('ascii', 'ignore')\n",
    "        r_dict['reviewer_location'] = rev_data2i\n",
    "\n",
    "        rev_data3i = 'Unknown' if rev_data3[i[0]].get('content') is None else rev_data3[i[0]].get('content')\n",
    "        r_dict['review_rating'] = rev_data3i\n",
    "\n",
    "        rev_data4i = 'Unknown' if rev_data4[i[0]].get('content') is None else rev_data4[i[0]].get('content')\n",
    "        r_dict['review_date'] = rev_data4i\n",
    "\n",
    "        rev_data5i = 'None' if rev_data5[i[0]].getText() is None else rev_data5[i[0]].getText().encode('ascii','ignore')\n",
    "        r_dict['review_content'] = rev_data5i\n",
    "\n",
    "        res_data5i = d.select('h1.biz-page-title.embossed-text-white')[0].string.encode('ascii','ignore').strip()\n",
    "        r_dict['restaurant_name'] = res_data5i\n",
    "\n",
    "        r_list.append(r_dict)\n",
    "    \n",
    "    return r_list"
   ]
  }
 ],
 "metadata": {
  "kernelspec": {
   "display_name": "Python 3 (ipykernel)",
   "language": "python",
   "name": "python3"
  },
  "language_info": {
   "codemirror_mode": {
    "name": "ipython",
    "version": 3
   },
   "file_extension": ".py",
   "mimetype": "text/x-python",
   "name": "python",
   "nbconvert_exporter": "python",
   "pygments_lexer": "ipython3",
   "version": "3.11.4"
  }
 },
 "nbformat": 4,
 "nbformat_minor": 5
}
