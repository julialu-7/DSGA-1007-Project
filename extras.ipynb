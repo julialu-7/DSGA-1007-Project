2023 NYC Michelin STAR restaurants — confirm Manhattan proper status & subset Yelp data accordingly.  

* Eleven Madison park
* Le Bernardin
* Masa
* Per Se
* Al Coro
* Aquavit
* Aska
* Atera
* Atomix
* Blue Hill at Stone Barns
* Daniel
* Gabriel Kreuther
* Jean-Georges
* Jungsik
* The Modern
* Odo (new)
* Saga
* Sushi Noz (new)
* Sixty Three Clinton
* Bōm (new)
* Casa Mono
* Caviar Russe
* Clover Hill
* Cote
* Crown Shy
* Dirt Candy
* Essential by Christophe (new)
* Estela
* Family Hill at Blue Hill
* The Four Horseman
* Francie
* Frevo
* Gramercy Tavern
* Hirohisa
* Icca
* Jeju Noodle Bar
* Jōji (new)
* Joomak Banjum
* Jua
* Kochi
* Kosaka
* L'Abeille
* Le Coucou
* Le Jardinier
* Le Pavillon
* Mari
* Meju (new)
* The Musket Room
* Noda
* Noz 17
* Oiji Mi
* One White Street
* Oxalis
* Oxomoco
* Red paper Clip
* Restaurant Yuu (new)
* Rezdôra
* Semma
* Shion 69 Leonard Street
* Shmoné (new)
* Sushi Amane
* Sushi Ichimura (new)
* Sushi Nakazawa
* Sushi Yasuda
* Tempura Matsui
* Torien
* Torrisi (new)
* Tsukimi
* Tuome
* Vestry
* Yoshino
* 
