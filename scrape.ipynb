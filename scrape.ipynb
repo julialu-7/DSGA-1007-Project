{
 "cells": [
  {
   "cell_type": "markdown",
   "id": "ef7d0dbe",
   "metadata": {},
   "source": [
    "Yelp API Guide: https://docs.developer.yelp.com/docs/fusion-intro"
   ]
  },
  {
   "cell_type": "markdown",
   "id": "dffff413",
   "metadata": {},
   "source": [
    "## Aggregating Yelp Restaurant Data\n",
    "Uses the v3/businesses/search endpoint."
   ]
  },
  {
   "cell_type": "code",
   "execution_count": 29,
   "id": "b037cbc0",
   "metadata": {
    "ExecuteTime": {
     "end_time": "2023-11-13T03:34:41.623893Z",
     "start_time": "2023-11-13T03:34:41.618320Z"
    }
   },
   "outputs": [],
   "source": [
    "import json\n",
    "import os\n",
    "import requests\n",
    "import time\n",
    "import urllib.request\n",
    "from urllib.error import HTTPError\n",
    "import unidecode"
   ]
  },
  {
   "cell_type": "code",
   "execution_count": 18,
   "id": "0d4efaae",
   "metadata": {
    "ExecuteTime": {
     "end_time": "2023-11-11T00:33:59.773074Z",
     "start_time": "2023-11-11T00:33:59.761205Z"
    }
   },
   "outputs": [],
   "source": [
    "# Aggregate Manhattan specific restuarants by neighborhood for more granular results.\n",
    "neighborhoods = [\n",
    "    \"Alphabet City\",\n",
    "    \"Battery Park City\",\n",
    "    \"Bowery\",\n",
    "    \"Bryant Park\",\n",
    "    \"Carnegie Hill\",\n",
    "    \"Central Park\",\n",
    "    \"Chelsea\",\n",
    "    \"Chinatown\",\n",
    "    \"Civic Center\",\n",
    "    \"Clinton\",\n",
    "    \"East Harlem\",\n",
    "    \"East Village\",\n",
    "    \"Financial District\",\n",
    "    \"Flatiron\",\n",
    "    \"Fort George\",\n",
    "    \"Garment District\",\n",
    "    \"Gramercy\",\n",
    "    \"Greenwich Village\",\n",
    "    \"Hamilton Heights\",\n",
    "    \"Harlem\",\n",
    "    \"Hells Kitchen\",\n",
    "    \"Hudson Heights\",\n",
    "    \"Hudson Square\",\n",
    "    \"Hudson Yards\",\n",
    "    \"Inwood\",\n",
    "    \"Kips Bay\",\n",
    "    \"Lenox Hill\",\n",
    "    \"Lincoln Square\",\n",
    "    \"Little Italy\",\n",
    "    \"Lower East Side\",\n",
    "    \"Manhattan Valley\",\n",
    "    \"Manhattanville\",\n",
    "    \"Meatpacking\",\n",
    "    \"Midtown\",\n",
    "    \"Midtown East\",\n",
    "    \"Midtown South\",\n",
    "    \"Midtown West\",\n",
    "    \"Morningside Heights\",\n",
    "    \"Murray Hill\",\n",
    "    \"Noho\",\n",
    "    \"Nolita\",\n",
    "    \"NoMad\",\n",
    "    \"Roosevelt Island\",\n",
    "    \"Soho\",\n",
    "    \"Stuyvesant Town\",\n",
    "    \"Sutton Place\",\n",
    "    \"Times Square\",\n",
    "    \"Theater District\",\n",
    "    \"Tribeca\",\n",
    "    \"Tudor City\",\n",
    "    \"Turtle Bay\",\n",
    "    \"Two Bridges\",\n",
    "    \"Union Square\",\n",
    "    \"Upper East Side\",\n",
    "    \"Upper West Side\",\n",
    "    \"Washington Heights\",\n",
    "    \"Washington Square Park\",\n",
    "    \"West Harlem\",\n",
    "    \"West Village\",\n",
    "    \"Yorkville\",\n",
    "]"
   ]
  },
  {
   "cell_type": "code",
   "execution_count": 19,
   "id": "24e34197",
   "metadata": {
    "ExecuteTime": {
     "end_time": "2023-11-11T00:01:04.749938Z",
     "start_time": "2023-11-11T00:01:04.744671Z"
    }
   },
   "outputs": [],
   "source": [
    "# Yelp allows inly 500 API calls per day, so we rotate btwn 3 different keys for maximum data collection.\n",
    "kKeyIndex = 0\n",
    "keys = [\n",
    "    \"ZF5VOfPCUWtK2C4_ZMpMrO3FxyS6EGlN_aCjNPBTYZyHhmMZvi7sADCFioEuDUalKlL_83AGB1fWkICmFeHudLzmUhtUq589kgKpnfQbQoT2BMznqTLJ2cIX1RRAZXYx\",\n",
    "    \"QOCKsANBYQUN4Fmrxh23mAl5Bjbi69gv3W7ChGNOmp98Q3124aytz9F2MzEPhmKOXa6EomrQAjLeGEZuvlrbsR5Q_KSnsST7Ona_K0_wafErqsrxsd68aCSe9j9IZXYx\",\n",
    "    \"NO9vZwZGnE58R8YbQDEPC90SlZ2eok4O4aYkdIxH96vUZMeSCDCvIZYY7L3VxWVYiMITiaMIkOBPRdtOgkR52BwBexnpVDDmhcjWClFRgu8uByoBopPAP8stZUBIZXYx\"  \n",
    "]"
   ]
  },
  {
   "cell_type": "code",
   "execution_count": 20,
   "id": "fa88279f",
   "metadata": {},
   "outputs": [],
   "source": [
    "url = 'https://api.yelp.com/v3/businesses/search'\n",
    "headers = {\n",
    "    \"accept\": \"application/json\",\n",
    "    \"Authorization\": \"Bearer \" + keys[kKeyIndex]\n",
    "}"
   ]
  },
  {
   "cell_type": "code",
   "execution_count": 21,
   "id": "dd6b5355",
   "metadata": {
    "ExecuteTime": {
     "end_time": "2023-11-11T00:07:17.247366Z",
     "start_time": "2023-11-11T00:07:17.240376Z"
    }
   },
   "outputs": [],
   "source": [
    "alias_to_content = {}"
   ]
  },
  {
   "cell_type": "code",
   "execution_count": 22,
   "id": "6deb81c6",
   "metadata": {
    "ExecuteTime": {
     "end_time": "2023-11-11T00:35:24.727570Z",
     "start_time": "2023-11-11T00:34:09.577775Z"
    }
   },
   "outputs": [
    {
     "name": "stdout",
     "output_type": "stream",
     "text": [
      "Fetching data for Alphabet City\n",
      "Rotating key\n",
      "429\n",
      "Rotating key\n",
      "429\n",
      "Rotating key\n"
     ]
    },
    {
     "ename": "IndexError",
     "evalue": "list index out of range",
     "output_type": "error",
     "traceback": [
      "\u001b[0;31m---------------------------------------------------------------------------\u001b[0m",
      "\u001b[0;31mIndexError\u001b[0m                                Traceback (most recent call last)",
      "\u001b[1;32m/Users/willcalandra/Documents/DSGA-1007-Project/scrape.ipynb Cell 8\u001b[0m line \u001b[0;36m2\n\u001b[1;32m     <a href='vscode-notebook-cell:/Users/willcalandra/Documents/DSGA-1007-Project/scrape.ipynb#X10sZmlsZQ%3D%3D?line=23'>24</a>\u001b[0m     \u001b[39mprint\u001b[39m(\u001b[39m\"\u001b[39m\u001b[39mRotating key\u001b[39m\u001b[39m\"\u001b[39m)\n\u001b[1;32m     <a href='vscode-notebook-cell:/Users/willcalandra/Documents/DSGA-1007-Project/scrape.ipynb#X10sZmlsZQ%3D%3D?line=24'>25</a>\u001b[0m     kKeyIndex \u001b[39m+\u001b[39m\u001b[39m=\u001b[39m \u001b[39m1\u001b[39m\n\u001b[0;32m---> <a href='vscode-notebook-cell:/Users/willcalandra/Documents/DSGA-1007-Project/scrape.ipynb#X10sZmlsZQ%3D%3D?line=25'>26</a>\u001b[0m     headers[\u001b[39m\"\u001b[39m\u001b[39mAuthorization\u001b[39m\u001b[39m\"\u001b[39m] \u001b[39m=\u001b[39m \u001b[39m\"\u001b[39m\u001b[39mBearer \u001b[39m\u001b[39m\"\u001b[39m \u001b[39m+\u001b[39m keys[kKeyIndex]\n\u001b[1;32m     <a href='vscode-notebook-cell:/Users/willcalandra/Documents/DSGA-1007-Project/scrape.ipynb#X10sZmlsZQ%3D%3D?line=26'>27</a>\u001b[0m     response \u001b[39m=\u001b[39m requests\u001b[39m.\u001b[39mget(url, headers\u001b[39m=\u001b[39mheaders, params\u001b[39m=\u001b[39murl_params)\n\u001b[1;32m     <a href='vscode-notebook-cell:/Users/willcalandra/Documents/DSGA-1007-Project/scrape.ipynb#X10sZmlsZQ%3D%3D?line=28'>29</a>\u001b[0m \u001b[39mif\u001b[39;00m response\u001b[39m.\u001b[39mstatus_code \u001b[39m!=\u001b[39m \u001b[39m200\u001b[39m:\n",
      "\u001b[0;31mIndexError\u001b[0m: list index out of range"
     ]
    }
   ],
   "source": [
    "for neighborhood in neighborhoods:\n",
    "    print(\"Fetching data for \" + neighborhood)\n",
    "    \n",
    "    # Maximum results per API request.\n",
    "    limit = 50\n",
    "    location = neighborhood + \", Manhattan, NY\"\n",
    "    location = location.replace(\" \", \"+\")\n",
    "    \n",
    "    # Get up to 1000 restaurants per neighborhood.\n",
    "    for i in range(0, 1000, limit):        \n",
    "        url_params = {\n",
    "            \"location\": location,\n",
    "            \"term\": \"Restaurants\",\n",
    "            \"limit\": limit,\n",
    "            \"offset\": i,\n",
    "            \"categories\": \"(restaurants, All)\",\n",
    "            \"sort_by\": \"distance\",\n",
    "        }\n",
    "\n",
    "        response = requests.get(url, headers=headers, params=url_params)\n",
    "        \n",
    "        # Max API calls gets a return status == 429!\n",
    "        if response.status_code == 429: \n",
    "            print(\"Rotating key\")\n",
    "            kKeyIndex += 1\n",
    "            headers[\"Authorization\"] = \"Bearer \" + keys[kKeyIndex]\n",
    "            response = requests.get(url, headers=headers, params=url_params)\n",
    "\n",
    "        if response.status_code != 200:\n",
    "            print(response.status_code)\n",
    "            continue\n",
    "\n",
    "        # If we already got all the businesses in a neighborhood.\n",
    "        content = json.loads(response.content)\n",
    "        if len(content[\"businesses\"]) == 0:\n",
    "            break\n",
    "\n",
    "        for business in content[\"businesses\"]:\n",
    "            alias_to_content[business[\"alias\"]] = business"
   ]
  },
  {
   "cell_type": "code",
   "execution_count": null,
   "id": "e427d0a4",
   "metadata": {
    "ExecuteTime": {
     "end_time": "2023-11-11T00:36:22.076014Z",
     "start_time": "2023-11-11T00:36:21.539270Z"
    }
   },
   "outputs": [],
   "source": [
    "# Write file.\n",
    "#file_path = \"{}/restaurants.json\".format(os.getcwd())\n",
    "#with open(file_path, \"w\") as fp:\n",
    "#    json.dump(alias_to_content, fp)"
   ]
  },
  {
   "cell_type": "code",
   "execution_count": null,
   "id": "571bd46d",
   "metadata": {},
   "outputs": [],
   "source": [
    "# Copy file\n",
    "file_path = \"{}/restaurants3.json\".format(os.getcwd())\n",
    "with open(file_path, \"w\") as fp:\n",
    "    json.dump(alias_to_content, fp)"
   ]
  },
  {
   "cell_type": "markdown",
   "id": "153f5fb8",
   "metadata": {},
   "source": [
    "## Aggregating Yelp Reviews Data\n",
    "No API for this. We call it with a sketchy endpoint."
   ]
  },
  {
   "cell_type": "code",
   "execution_count": null,
   "id": "32eef56c",
   "metadata": {
    "ExecuteTime": {
     "end_time": "2023-11-13T03:55:15.042518Z",
     "start_time": "2023-11-13T03:55:14.703211Z"
    }
   },
   "outputs": [],
   "source": [
    "# Read file.\n",
    "#file_path = \"{}/restaurants.json\".format(os.getcwd())\n",
    "#with open(file_path, \"r\") as json_file:\n",
    "#    alias_to_content = json.loads(json_file.read())"
   ]
  },
  {
   "cell_type": "code",
   "execution_count": 23,
   "id": "cad813f9",
   "metadata": {},
   "outputs": [],
   "source": [
    "# Copy\n",
    "file_path = \"{}/restaurants2.json\".format(os.getcwd())\n",
    "with open(file_path, \"r\") as json_file:\n",
    "    alias_to_content = json.loads(json_file.read())"
   ]
  },
  {
   "cell_type": "code",
   "execution_count": 25,
   "id": "8d0c194a",
   "metadata": {
    "ExecuteTime": {
     "end_time": "2023-11-13T03:55:16.471657Z",
     "start_time": "2023-11-13T03:55:16.466897Z"
    }
   },
   "outputs": [],
   "source": [
    "headers = {\n",
    "    \"Content-Type\": \"text/html; charset=UTF-8\",\n",
    "    \"User-Agent\": \"Mozilla/5.0 (Macintosh; Intel Mac OS X 10_15_7) AppleWebKit/537.36 (KHTML, like Gecko) Chrome/119.0.0.0 Safari/537.36\",\n",
    "}"
   ]
  },
  {
   "cell_type": "code",
   "execution_count": 35,
   "id": "a0af6ecb",
   "metadata": {
    "ExecuteTime": {
     "end_time": "2023-11-13T03:55:19.565919Z",
     "start_time": "2023-11-13T03:55:17.472185Z"
    }
   },
   "outputs": [
    {
     "name": "stdout",
     "output_type": "stream",
     "text": [
      "Fetching for thirteen-water-new-york\n",
      "Fetching for sake-bar-satsko-new-york\n",
      "Fetching for tokuyamatcha-and-onigirazu-bar-new-york-3\n",
      "Fetching for the-frenchy-burger-new-york\n",
      "Fetching for pmf-pardon-my-french-new-york\n",
      "Fetching for san-loco-new-york-5\n",
      "Fetching for ayat-new-york\n",
      "Fetching for thayer-new-york\n",
      "Fetching for two-perrys-new-york\n",
      "Fetching for your-desire-in-food-new-york-2\n",
      "Fetching for bar-miller-new-york\n",
      "Fetching for horus-cafe-new-york-5\n",
      "Fetching for the-summit-bar-new-york\n",
      "Fetching for puerto-rico-ices-new-york\n",
      "Fetching for kafana-new-york\n",
      "Fetching for ding-a-ling-new-york\n",
      "Fetching for esqueleto-taqueria-new-york-3\n",
      "Fetching for maia-meyhane-new-york\n",
      "Fetching for gruppo-nycthincrust-pizza-new-york\n",
      "Fetching for yankee-two-deli-manhattan\n",
      "Fetching for c-and-b-new-york\n",
      "Fetching for sunny-and-annies-new-york\n",
      "Fetching for bobwhite-counter-new-york-7\n",
      "Fetching for lis-restaurant-new-york\n",
      "Fetching for a-and-c-kitchen-new-york-2\n",
      "Fetching for lilys-shakes-and-crepes-new-york\n",
      "Fetching for bobby-s-night-out-new-york\n",
      "Fetching for n-y-famous-pizzeria-new-york\n",
      "Fetching for the-wayland-new-york\n",
      "Fetching for studio-151-new-york\n",
      "Fetching for soda-club-new-york\n",
      "Fetching for gustavo-new-york\n",
      "Fetching for anthonys-do-it-like-nyc-new-york\n",
      "Fetching for veg-n-new-york\n",
      "Fetching for tajeen-halal-food-truck-new-york-2\n",
      "Fetching for jaleby-new-york-2\n",
      "Fetching for tyga-bites-new-york-3\n",
      "Fetching for spicy-street-new-york\n",
      "Fetching for royale-new-york\n",
      "Fetching for neighborhood-deli-new-york-2\n",
      "Fetching for imperio-food-grocery-new-york\n",
      "Fetching for lavagna-new-york\n",
      "Fetching for greenland-gourmet-deli-new-york\n",
      "Fetching for maiden-lane-new-york\n",
      "Fetching for 5c-cafe-new-york\n",
      "Fetching for casa-adela-new-york\n",
      "Fetching for pizza-nostra-new-york\n",
      "Fetching for gnocco-new-york\n",
      "Fetching for hekate-cafe-and-elixir-lounge-new-york\n",
      "Fetching for terra-thai-new-york\n",
      "Fetching for le-burger-new-york\n",
      "Fetching for tuome-new-york-2\n",
      "Fetching for buenos-aires-restaurant-new-york-2\n",
      "Fetching for burgers-on-b-new-york\n",
      "Fetching for minca-new-york\n",
      "Fetching for yangs-happy-wok-new-york\n",
      "Fetching for desi-galli-new-york-4\n",
      "Fetching for stoned-new-york-3\n",
      "Fetching for desi-galli-new-york-3\n",
      "Fetching for pineapple-club-new-york\n",
      "Fetching for eleven-b-new-york-4\n",
      "Fetching for snapback-chicken-tenders-and-mac-new-york\n",
      "Fetching for wing-szn-east-village-new-york-2\n",
      "Fetching for wing-szn-east-village-new-york\n",
      "Fetching for bitcoin-pizza-east-village-new-york\n",
      "Fetching for nowon-east-village-new-york-3\n",
      "Fetching for nur-grocery-two-deli-and-grill-new-york-2\n",
      "Fetching for the-couch-new-york\n",
      "Fetching for evangeline-chan-new-york\n",
      "Fetching for la-bella-italian-restaurant-new-york\n",
      "Fetching for all-of-the-above-new-york-2\n",
      "Fetching for east-village-finest-deli-new-york\n",
      "Fetching for down-and-out-new-york\n",
      "Fetching for lamias-fish-market-new-york-2\n",
      "Fetching for joey-bats-cafe-new-york-9\n",
      "Fetching for fiaschetteria-pistoia-new-york\n",
      "Fetching for yankee-deli-new-york-city\n",
      "Fetching for brindle-room-new-york-3\n",
      "Fetching for the-izakaya-nyc-new-york-2\n",
      "Fetching for eterea-new-york\n",
      "Fetching for yankee-pizza-new-york-city-3\n",
      "Fetching for the-cardinal-club-new-york\n",
      "Fetching for van-da-new-york-3\n",
      "Link error on van-da-new-york-3\n",
      "Link error on van-da-new-york-3\n",
      "Link error on van-da-new-york-3\n",
      "Link error on van-da-new-york-3\n",
      "Link error on van-da-new-york-3\n",
      "Fetching for exclusive-smoke-shop-and-deli-new-york\n",
      "Fetching for rumba-nyc-bar-and-grill-new-york\n",
      "Fetching for 528-deli-and-grocery-new-york\n",
      "Fetching for gnoccheria-east-village-new-york\n",
      "Fetching for neighborhood-deli-new-york\n",
      "Fetching for petrl-new-york-4\n",
      "Fetching for post-new-york-2\n",
      "Fetching for polny-restaurant-corporation-new-york\n",
      "Fetching for frangos-peri-peri-new-york\n",
      "Fetching for haile-bistro-new-york\n"
     ]
    },
    {
     "ename": "KeyboardInterrupt",
     "evalue": "",
     "output_type": "error",
     "traceback": [
      "\u001b[0;31m---------------------------------------------------------------------------\u001b[0m",
      "\u001b[0;31mKeyboardInterrupt\u001b[0m                         Traceback (most recent call last)",
      "\u001b[1;32m/Users/willcalandra/Documents/DSGA-1007-Project/scrape.ipynb Cell 15\u001b[0m line \u001b[0;36m2\n\u001b[1;32m     <a href='vscode-notebook-cell:/Users/willcalandra/Documents/DSGA-1007-Project/scrape.ipynb#X15sZmlsZQ%3D%3D?line=18'>19</a>\u001b[0m \u001b[39m# Handle link errors\u001b[39;00m\n\u001b[1;32m     <a href='vscode-notebook-cell:/Users/willcalandra/Documents/DSGA-1007-Project/scrape.ipynb#X15sZmlsZQ%3D%3D?line=19'>20</a>\u001b[0m \u001b[39mtry\u001b[39;00m:\n\u001b[1;32m     <a href='vscode-notebook-cell:/Users/willcalandra/Documents/DSGA-1007-Project/scrape.ipynb#X15sZmlsZQ%3D%3D?line=20'>21</a>\u001b[0m     \u001b[39m# Open URL\u001b[39;00m\n\u001b[0;32m---> <a href='vscode-notebook-cell:/Users/willcalandra/Documents/DSGA-1007-Project/scrape.ipynb#X15sZmlsZQ%3D%3D?line=21'>22</a>\u001b[0m     \u001b[39mwith\u001b[39;00m urllib\u001b[39m.\u001b[39mrequest\u001b[39m.\u001b[39murlopen(request) \u001b[39mas\u001b[39;00m response:\n\u001b[1;32m     <a href='vscode-notebook-cell:/Users/willcalandra/Documents/DSGA-1007-Project/scrape.ipynb#X15sZmlsZQ%3D%3D?line=22'>23</a>\u001b[0m         \u001b[39mif\u001b[39;00m response\u001b[39m.\u001b[39mcode \u001b[39m!=\u001b[39m \u001b[39m200\u001b[39m:\n\u001b[1;32m     <a href='vscode-notebook-cell:/Users/willcalandra/Documents/DSGA-1007-Project/scrape.ipynb#X15sZmlsZQ%3D%3D?line=23'>24</a>\u001b[0m             \u001b[39mprint\u001b[39m(response\u001b[39m.\u001b[39mcode)\n",
      "File \u001b[0;32m~/anaconda3/lib/python3.11/urllib/request.py:216\u001b[0m, in \u001b[0;36murlopen\u001b[0;34m(url, data, timeout, cafile, capath, cadefault, context)\u001b[0m\n\u001b[1;32m    214\u001b[0m \u001b[39melse\u001b[39;00m:\n\u001b[1;32m    215\u001b[0m     opener \u001b[39m=\u001b[39m _opener\n\u001b[0;32m--> 216\u001b[0m \u001b[39mreturn\u001b[39;00m opener\u001b[39m.\u001b[39mopen(url, data, timeout)\n",
      "File \u001b[0;32m~/anaconda3/lib/python3.11/urllib/request.py:519\u001b[0m, in \u001b[0;36mOpenerDirector.open\u001b[0;34m(self, fullurl, data, timeout)\u001b[0m\n\u001b[1;32m    516\u001b[0m     req \u001b[39m=\u001b[39m meth(req)\n\u001b[1;32m    518\u001b[0m sys\u001b[39m.\u001b[39maudit(\u001b[39m'\u001b[39m\u001b[39murllib.Request\u001b[39m\u001b[39m'\u001b[39m, req\u001b[39m.\u001b[39mfull_url, req\u001b[39m.\u001b[39mdata, req\u001b[39m.\u001b[39mheaders, req\u001b[39m.\u001b[39mget_method())\n\u001b[0;32m--> 519\u001b[0m response \u001b[39m=\u001b[39m \u001b[39mself\u001b[39m\u001b[39m.\u001b[39m_open(req, data)\n\u001b[1;32m    521\u001b[0m \u001b[39m# post-process response\u001b[39;00m\n\u001b[1;32m    522\u001b[0m meth_name \u001b[39m=\u001b[39m protocol\u001b[39m+\u001b[39m\u001b[39m\"\u001b[39m\u001b[39m_response\u001b[39m\u001b[39m\"\u001b[39m\n",
      "File \u001b[0;32m~/anaconda3/lib/python3.11/urllib/request.py:536\u001b[0m, in \u001b[0;36mOpenerDirector._open\u001b[0;34m(self, req, data)\u001b[0m\n\u001b[1;32m    533\u001b[0m     \u001b[39mreturn\u001b[39;00m result\n\u001b[1;32m    535\u001b[0m protocol \u001b[39m=\u001b[39m req\u001b[39m.\u001b[39mtype\n\u001b[0;32m--> 536\u001b[0m result \u001b[39m=\u001b[39m \u001b[39mself\u001b[39m\u001b[39m.\u001b[39m_call_chain(\u001b[39mself\u001b[39m\u001b[39m.\u001b[39mhandle_open, protocol, protocol \u001b[39m+\u001b[39m\n\u001b[1;32m    537\u001b[0m                           \u001b[39m'\u001b[39m\u001b[39m_open\u001b[39m\u001b[39m'\u001b[39m, req)\n\u001b[1;32m    538\u001b[0m \u001b[39mif\u001b[39;00m result:\n\u001b[1;32m    539\u001b[0m     \u001b[39mreturn\u001b[39;00m result\n",
      "File \u001b[0;32m~/anaconda3/lib/python3.11/urllib/request.py:496\u001b[0m, in \u001b[0;36mOpenerDirector._call_chain\u001b[0;34m(self, chain, kind, meth_name, *args)\u001b[0m\n\u001b[1;32m    494\u001b[0m \u001b[39mfor\u001b[39;00m handler \u001b[39min\u001b[39;00m handlers:\n\u001b[1;32m    495\u001b[0m     func \u001b[39m=\u001b[39m \u001b[39mgetattr\u001b[39m(handler, meth_name)\n\u001b[0;32m--> 496\u001b[0m     result \u001b[39m=\u001b[39m func(\u001b[39m*\u001b[39margs)\n\u001b[1;32m    497\u001b[0m     \u001b[39mif\u001b[39;00m result \u001b[39mis\u001b[39;00m \u001b[39mnot\u001b[39;00m \u001b[39mNone\u001b[39;00m:\n\u001b[1;32m    498\u001b[0m         \u001b[39mreturn\u001b[39;00m result\n",
      "File \u001b[0;32m~/anaconda3/lib/python3.11/urllib/request.py:1391\u001b[0m, in \u001b[0;36mHTTPSHandler.https_open\u001b[0;34m(self, req)\u001b[0m\n\u001b[1;32m   1390\u001b[0m \u001b[39mdef\u001b[39;00m \u001b[39mhttps_open\u001b[39m(\u001b[39mself\u001b[39m, req):\n\u001b[0;32m-> 1391\u001b[0m     \u001b[39mreturn\u001b[39;00m \u001b[39mself\u001b[39m\u001b[39m.\u001b[39mdo_open(http\u001b[39m.\u001b[39mclient\u001b[39m.\u001b[39mHTTPSConnection, req,\n\u001b[1;32m   1392\u001b[0m         context\u001b[39m=\u001b[39m\u001b[39mself\u001b[39m\u001b[39m.\u001b[39m_context, check_hostname\u001b[39m=\u001b[39m\u001b[39mself\u001b[39m\u001b[39m.\u001b[39m_check_hostname)\n",
      "File \u001b[0;32m~/anaconda3/lib/python3.11/urllib/request.py:1352\u001b[0m, in \u001b[0;36mAbstractHTTPHandler.do_open\u001b[0;34m(self, http_class, req, **http_conn_args)\u001b[0m\n\u001b[1;32m   1350\u001b[0m     \u001b[39mexcept\u001b[39;00m \u001b[39mOSError\u001b[39;00m \u001b[39mas\u001b[39;00m err: \u001b[39m# timeout error\u001b[39;00m\n\u001b[1;32m   1351\u001b[0m         \u001b[39mraise\u001b[39;00m URLError(err)\n\u001b[0;32m-> 1352\u001b[0m     r \u001b[39m=\u001b[39m h\u001b[39m.\u001b[39mgetresponse()\n\u001b[1;32m   1353\u001b[0m \u001b[39mexcept\u001b[39;00m:\n\u001b[1;32m   1354\u001b[0m     h\u001b[39m.\u001b[39mclose()\n",
      "File \u001b[0;32m~/anaconda3/lib/python3.11/http/client.py:1378\u001b[0m, in \u001b[0;36mHTTPConnection.getresponse\u001b[0;34m(self)\u001b[0m\n\u001b[1;32m   1376\u001b[0m \u001b[39mtry\u001b[39;00m:\n\u001b[1;32m   1377\u001b[0m     \u001b[39mtry\u001b[39;00m:\n\u001b[0;32m-> 1378\u001b[0m         response\u001b[39m.\u001b[39mbegin()\n\u001b[1;32m   1379\u001b[0m     \u001b[39mexcept\u001b[39;00m \u001b[39mConnectionError\u001b[39;00m:\n\u001b[1;32m   1380\u001b[0m         \u001b[39mself\u001b[39m\u001b[39m.\u001b[39mclose()\n",
      "File \u001b[0;32m~/anaconda3/lib/python3.11/http/client.py:318\u001b[0m, in \u001b[0;36mHTTPResponse.begin\u001b[0;34m(self)\u001b[0m\n\u001b[1;32m    316\u001b[0m \u001b[39m# read until we get a non-100 response\u001b[39;00m\n\u001b[1;32m    317\u001b[0m \u001b[39mwhile\u001b[39;00m \u001b[39mTrue\u001b[39;00m:\n\u001b[0;32m--> 318\u001b[0m     version, status, reason \u001b[39m=\u001b[39m \u001b[39mself\u001b[39m\u001b[39m.\u001b[39m_read_status()\n\u001b[1;32m    319\u001b[0m     \u001b[39mif\u001b[39;00m status \u001b[39m!=\u001b[39m CONTINUE:\n\u001b[1;32m    320\u001b[0m         \u001b[39mbreak\u001b[39;00m\n",
      "File \u001b[0;32m~/anaconda3/lib/python3.11/http/client.py:279\u001b[0m, in \u001b[0;36mHTTPResponse._read_status\u001b[0;34m(self)\u001b[0m\n\u001b[1;32m    278\u001b[0m \u001b[39mdef\u001b[39;00m \u001b[39m_read_status\u001b[39m(\u001b[39mself\u001b[39m):\n\u001b[0;32m--> 279\u001b[0m     line \u001b[39m=\u001b[39m \u001b[39mstr\u001b[39m(\u001b[39mself\u001b[39m\u001b[39m.\u001b[39mfp\u001b[39m.\u001b[39mreadline(_MAXLINE \u001b[39m+\u001b[39m \u001b[39m1\u001b[39m), \u001b[39m\"\u001b[39m\u001b[39miso-8859-1\u001b[39m\u001b[39m\"\u001b[39m)\n\u001b[1;32m    280\u001b[0m     \u001b[39mif\u001b[39;00m \u001b[39mlen\u001b[39m(line) \u001b[39m>\u001b[39m _MAXLINE:\n\u001b[1;32m    281\u001b[0m         \u001b[39mraise\u001b[39;00m LineTooLong(\u001b[39m\"\u001b[39m\u001b[39mstatus line\u001b[39m\u001b[39m\"\u001b[39m)\n",
      "File \u001b[0;32m~/anaconda3/lib/python3.11/socket.py:706\u001b[0m, in \u001b[0;36mSocketIO.readinto\u001b[0;34m(self, b)\u001b[0m\n\u001b[1;32m    704\u001b[0m \u001b[39mwhile\u001b[39;00m \u001b[39mTrue\u001b[39;00m:\n\u001b[1;32m    705\u001b[0m     \u001b[39mtry\u001b[39;00m:\n\u001b[0;32m--> 706\u001b[0m         \u001b[39mreturn\u001b[39;00m \u001b[39mself\u001b[39m\u001b[39m.\u001b[39m_sock\u001b[39m.\u001b[39mrecv_into(b)\n\u001b[1;32m    707\u001b[0m     \u001b[39mexcept\u001b[39;00m timeout:\n\u001b[1;32m    708\u001b[0m         \u001b[39mself\u001b[39m\u001b[39m.\u001b[39m_timeout_occurred \u001b[39m=\u001b[39m \u001b[39mTrue\u001b[39;00m\n",
      "File \u001b[0;32m~/anaconda3/lib/python3.11/ssl.py:1278\u001b[0m, in \u001b[0;36mSSLSocket.recv_into\u001b[0;34m(self, buffer, nbytes, flags)\u001b[0m\n\u001b[1;32m   1274\u001b[0m     \u001b[39mif\u001b[39;00m flags \u001b[39m!=\u001b[39m \u001b[39m0\u001b[39m:\n\u001b[1;32m   1275\u001b[0m         \u001b[39mraise\u001b[39;00m \u001b[39mValueError\u001b[39;00m(\n\u001b[1;32m   1276\u001b[0m           \u001b[39m\"\u001b[39m\u001b[39mnon-zero flags not allowed in calls to recv_into() on \u001b[39m\u001b[39m%s\u001b[39;00m\u001b[39m\"\u001b[39m \u001b[39m%\u001b[39m\n\u001b[1;32m   1277\u001b[0m           \u001b[39mself\u001b[39m\u001b[39m.\u001b[39m\u001b[39m__class__\u001b[39m)\n\u001b[0;32m-> 1278\u001b[0m     \u001b[39mreturn\u001b[39;00m \u001b[39mself\u001b[39m\u001b[39m.\u001b[39mread(nbytes, buffer)\n\u001b[1;32m   1279\u001b[0m \u001b[39melse\u001b[39;00m:\n\u001b[1;32m   1280\u001b[0m     \u001b[39mreturn\u001b[39;00m \u001b[39msuper\u001b[39m()\u001b[39m.\u001b[39mrecv_into(buffer, nbytes, flags)\n",
      "File \u001b[0;32m~/anaconda3/lib/python3.11/ssl.py:1134\u001b[0m, in \u001b[0;36mSSLSocket.read\u001b[0;34m(self, len, buffer)\u001b[0m\n\u001b[1;32m   1132\u001b[0m \u001b[39mtry\u001b[39;00m:\n\u001b[1;32m   1133\u001b[0m     \u001b[39mif\u001b[39;00m buffer \u001b[39mis\u001b[39;00m \u001b[39mnot\u001b[39;00m \u001b[39mNone\u001b[39;00m:\n\u001b[0;32m-> 1134\u001b[0m         \u001b[39mreturn\u001b[39;00m \u001b[39mself\u001b[39m\u001b[39m.\u001b[39m_sslobj\u001b[39m.\u001b[39mread(\u001b[39mlen\u001b[39m, buffer)\n\u001b[1;32m   1135\u001b[0m     \u001b[39melse\u001b[39;00m:\n\u001b[1;32m   1136\u001b[0m         \u001b[39mreturn\u001b[39;00m \u001b[39mself\u001b[39m\u001b[39m.\u001b[39m_sslobj\u001b[39m.\u001b[39mread(\u001b[39mlen\u001b[39m)\n",
      "\u001b[0;31mKeyboardInterrupt\u001b[0m: "
     ]
    }
   ],
   "source": [
    "for alias, content in alias_to_content.items():\n",
    "    # Handle accents\n",
    "    alias = unidecode.unidecode(alias)\n",
    "    print(\"Fetching for \" + alias)\n",
    "    \n",
    "    # If we already scraped reviews, do not do it again.\n",
    "    # Scrapes take a long time, so this allows us to scrape over multiple runs.\n",
    "    if \"reviews\" in content:\n",
    "        continue\n",
    "    \n",
    "    # Gather 10 reviews per restaurant 5 times.\n",
    "    for i in range(0, 50, 10):\n",
    "        url = \"https://www.yelp.com/biz/{}/props?start={}\".format(alias, i)\n",
    "        request = urllib.request.Request(url, headers=headers)\n",
    "        \n",
    "        # Sleep or else Yelp might block your IP.\n",
    "        time.sleep(2)\n",
    "\n",
    "        # Handle link errors\n",
    "        try:\n",
    "            # Open URL\n",
    "            with urllib.request.urlopen(request) as response:\n",
    "                if response.code != 200:\n",
    "                    print(response.code)\n",
    "                    continue\n",
    "                \n",
    "                try:\n",
    "                    reviews = json.loads(response.read())[\"bizDetailsPageProps\"][\"reviewFeedQueryProps\"][\"reviews\"]\n",
    "                    content[\"reviews\"] = content.get(\"reviews\", [])\n",
    "                    \n",
    "                    for r in reviews:\n",
    "                        content[\"reviews\"].append({\n",
    "                            \"photoCount\": r[\"user\"][\"photoCount\"],\n",
    "                            \"reviewCount\": r[\"user\"][\"reviewCount\"],\n",
    "                            \"eliteYear\": r[\"user\"][\"eliteYear\"],\n",
    "                            \"localizedDate\": r[\"localizedDate\"],\n",
    "                            \"comment\": r[\"comment\"],\n",
    "                            \"rating\": r[\"rating\"],\n",
    "                        })\n",
    "                        \n",
    "                except:\n",
    "                    continue\n",
    "        except HTTPError:\n",
    "            print(\"Link error on \" + alias)\n",
    "            continue\n",
    "            \n"
   ]
  },
  {
   "cell_type": "code",
   "execution_count": null,
   "id": "9139790d",
   "metadata": {
    "ExecuteTime": {
     "end_time": "2023-11-13T03:52:52.348961Z",
     "start_time": "2023-11-13T03:52:51.789794Z"
    }
   },
   "outputs": [],
   "source": [
    "# Write file.\n",
    "#file_path = \"{}/restaurants.json\".format(os.getcwd())\n",
    "#with open(file_path, 'w') as fp:\n",
    "#    json.dump(alias_to_content, fp)"
   ]
  },
  {
   "cell_type": "code",
   "execution_count": 36,
   "id": "aa5eec4e",
   "metadata": {},
   "outputs": [],
   "source": [
    "# Copy\n",
    "file_path = \"{}/restaurants2.json\".format(os.getcwd())\n",
    "with open(file_path, 'w') as fp:\n",
    "    json.dump(alias_to_content, fp)"
   ]
  }
 ],
 "metadata": {
  "kernelspec": {
   "display_name": "Python 3 (ipykernel)",
   "language": "python",
   "name": "python3"
  },
  "language_info": {
   "codemirror_mode": {
    "name": "ipython",
    "version": 3
   },
   "file_extension": ".py",
   "mimetype": "text/x-python",
   "name": "python",
   "nbconvert_exporter": "python",
   "pygments_lexer": "ipython3",
   "version": "3.11.4"
  }
 },
 "nbformat": 4,
 "nbformat_minor": 5
}
